{
  "cells": [
    {
      "cell_type": "markdown",
      "metadata": {},
      "source": [
        "---\n",
        "title: \"Biological Data Science Institute\"\n",
        "subtitle: \"Australian National University\"\n",
        "page-layout: full\n",
        "title-block-banner: true\n",
        "---\n",
        "\n",
        "```{css, echo = FALSE}\n",
        ".box {\n",
        "  border: 1px solid black;\n",
        "}\n",
        "```\n",
        "\n",
        "\n",
        ":::{.list .grid .quarto-listing-cols-3}\n",
        "\n",
        "::: box\n",
        "\n",
        "### News\n",
        "\n",
        ":::\n",
        "\n",
        "\n",
        ":::\n"
      ],
      "id": "154a79d5"
    }
  ],
  "metadata": {
    "kernelspec": {
      "display_name": "Python 3",
      "language": "python",
      "name": "python3"
    }
  },
  "nbformat": 4,
  "nbformat_minor": 5
}